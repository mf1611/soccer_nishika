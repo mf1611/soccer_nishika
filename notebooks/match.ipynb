{
 "cells": [
  {
   "cell_type": "markdown",
   "metadata": {},
   "source": [
    "- match_2015_J1_78_s1.csv : 2015年のJ1のチームID78のシーズン1の試合結果\n",
    "- match_2015_J2_36.csv : 2015年のJ2のチームID36の試合結果（J2はシーズンが１つ）\n",
    "- match_2018_J1_14.csv1: 2018年のJ1のチームID14の試合結果（2015, 2016のみJ1が2ステージ制）"
   ]
  },
  {
   "cell_type": "code",
   "execution_count": 9,
   "metadata": {},
   "outputs": [],
   "source": [
    "import pandas as pd\n",
    "import numpy as np\n",
    "import matplotlib.pyplot as plt\n",
    "import japanize_matplotlib\n",
    "import seaborn as sns\n",
    "import pandas_profiling\n",
    "from glob import glob\n",
    "\n",
    "pd.set_option(\"display.max_columns\", None)\n",
    "# pd.set_option(\"display.max_rows\", 200)"
   ]
  },
  {
   "cell_type": "code",
   "execution_count": 2,
   "metadata": {},
   "outputs": [],
   "source": [
    "DATA_DIR = '../input/'"
   ]
  },
  {
   "cell_type": "code",
   "execution_count": 8,
   "metadata": {
    "scrolled": true
   },
   "outputs": [
    {
     "name": "stdout",
     "output_type": "stream",
     "text": [
      "match_2015_J1_10_s1.csv  match_2016_J1_13_2.csv  match_2017_J1_78.csv\r\n",
      "match_2015_J1_10_s2.csv  match_2016_J1_18.csv\t match_2017_J1_9.csv\r\n",
      "match_2015_J1_11_s1.csv  match_2016_J1_18_2.csv  match_2017_J2_12.csv\r\n",
      "match_2015_J1_11_s2.csv  match_2016_J1_1_2.csv\t match_2017_J2_2.csv\r\n",
      "match_2015_J1_12_s1.csv  match_2016_J1_21.csv\t match_2017_J2_23.csv\r\n",
      "match_2015_J1_12_s2.csv  match_2016_J1_21_2.csv  match_2017_J2_24.csv\r\n",
      "match_2015_J1_18_s1.csv  match_2016_J1_22.csv\t match_2017_J2_275.csv\r\n",
      "match_2015_J1_18_s2.csv  match_2016_J1_22_2.csv  match_2017_J2_29.csv\r\n",
      "match_2015_J1_1_s1.csv\t match_2016_J1_23.csv\t match_2017_J2_31.csv\r\n",
      "match_2015_J1_1_s2.csv\t match_2016_J1_23_2.csv  match_2017_J2_330.csv\r\n",
      "match_2015_J1_21_s1.csv  match_2016_J1_27.csv\t match_2017_J2_34.csv\r\n",
      "match_2015_J1_21_s2.csv  match_2016_J1_27_2.csv  match_2017_J2_35.csv\r\n",
      "match_2015_J1_22_s1.csv  match_2016_J1_28.csv\t match_2017_J2_36.csv\r\n",
      "match_2015_J1_22_s2.csv  match_2016_J1_28_2.csv  match_2017_J2_37.csv\r\n",
      "match_2015_J1_28_s1.csv  match_2016_J1_3.csv\t match_2017_J2_38.csv\r\n",
      "match_2015_J1_28_s2.csv  match_2016_J1_33.csv\t match_2017_J2_39.csv\r\n",
      "match_2015_J1_29_s1.csv  match_2016_J1_33_2.csv  match_2017_J2_4.csv\r\n",
      "match_2015_J1_29_s2.csv  match_2016_J1_3_2.csv\t match_2017_J2_42.csv\r\n",
      "match_2015_J1_33_s1.csv  match_2016_J1_5.csv\t match_2017_J2_45.csv\r\n",
      "match_2015_J1_33_s2.csv  match_2016_J1_54.csv\t match_2017_J2_46.csv\r\n",
      "match_2015_J1_3_s1.csv\t match_2016_J1_54_2.csv  match_2017_J2_47.csv\r\n",
      "match_2015_J1_3_s2.csv\t match_2016_J1_5_2.csv\t match_2017_J2_48.csv\r\n",
      "match_2015_J1_46_s1.csv  match_2016_J1_78.csv\t match_2017_J2_8.csv\r\n",
      "match_2015_J1_46_s2.csv  match_2016_J1_78_2.csv  match_2017_J2_94.csv\r\n",
      "match_2015_J1_54_s1.csv  match_2016_J1_8.csv\t match_2018_J1_1.csv\r\n",
      "match_2015_J1_54_s2.csv  match_2016_J1_8_2.csv\t match_2018_J1_10.csv\r\n",
      "match_2015_J1_5_s1.csv\t match_2016_J1_9.csv\t match_2018_J1_11.csv\r\n",
      "match_2015_J1_5_s2.csv\t match_2016_J1_9_2.csv\t match_2018_J1_12.csv\r\n",
      "match_2015_J1_78_s1.csv  match_2016_J2_14.csv\t match_2018_J1_13.csv\r\n",
      "match_2015_J1_78_s2.csv  match_2016_J2_2.csv\t match_2018_J1_14.csv\r\n",
      "match_2015_J1_7_s1.csv\t match_2016_J2_20.csv\t match_2018_J1_18.csv\r\n",
      "match_2015_J1_7_s2.csv\t match_2016_J2_24.csv\t match_2018_J1_20.csv\r\n",
      "match_2015_J1_8_s1.csv\t match_2016_J2_275.csv\t match_2018_J1_21.csv\r\n",
      "match_2015_J1_8_s2.csv\t match_2016_J2_29.csv\t match_2018_J1_22.csv\r\n",
      "match_2015_J1_9_s1.csv\t match_2016_J2_330.csv\t match_2018_J1_3.csv\r\n",
      "match_2015_J1_9_s2.csv\t match_2016_J2_34.csv\t match_2018_J1_33.csv\r\n",
      "match_2015_J2_13.csv\t match_2016_J2_35.csv\t match_2018_J1_47.csv\r\n",
      "match_2015_J2_14.csv\t match_2016_J2_36.csv\t match_2018_J1_5.csv\r\n",
      "match_2015_J2_2.csv\t match_2016_J2_37.csv\t match_2018_J1_54.csv\r\n",
      "match_2015_J2_20.csv\t match_2016_J2_38.csv\t match_2018_J1_7.csv\r\n",
      "match_2015_J2_23.csv\t match_2016_J2_39.csv\t match_2018_J1_8.csv\r\n",
      "match_2015_J2_24.csv\t match_2016_J2_4.csv\t match_2018_J1_9.csv\r\n",
      "match_2015_J2_27.csv\t match_2016_J2_42.csv\t match_2018_J2_2.csv\r\n",
      "match_2015_J2_275.csv\t match_2016_J2_43.csv\t match_2018_J2_23.csv\r\n",
      "match_2015_J2_31.csv\t match_2016_J2_45.csv\t match_2018_J2_24.csv\r\n",
      "match_2015_J2_34.csv\t match_2016_J2_46.csv\t match_2018_J2_27.csv\r\n",
      "match_2015_J2_35.csv\t match_2016_J2_47.csv\t match_2018_J2_275.csv\r\n",
      "match_2015_J2_36.csv\t match_2016_J2_48.csv\t match_2018_J2_28.csv\r\n",
      "match_2015_J2_37.csv\t match_2016_J2_7.csv\t match_2018_J2_29.csv\r\n",
      "match_2015_J2_38.csv\t match_2016_J2_94.csv\t match_2018_J2_31.csv\r\n",
      "match_2015_J2_39.csv\t match_2017_J1_1.csv\t match_2018_J2_330.csv\r\n",
      "match_2015_J2_4.csv\t match_2017_J1_10.csv\t match_2018_J2_34.csv\r\n",
      "match_2015_J2_40.csv\t match_2017_J1_11.csv\t match_2018_J2_36.csv\r\n",
      "match_2015_J2_42.csv\t match_2017_J1_13.csv\t match_2018_J2_37.csv\r\n",
      "match_2015_J2_43.csv\t match_2017_J1_14.csv\t match_2018_J2_38.csv\r\n",
      "match_2015_J2_47.csv\t match_2017_J1_18.csv\t match_2018_J2_39.csv\r\n",
      "match_2015_J2_48.csv\t match_2017_J1_20.csv\t match_2018_J2_4.csv\r\n",
      "match_2015_J2_94.csv\t match_2017_J1_21.csv\t match_2018_J2_40.csv\r\n",
      "match_2016_J1_1.csv\t match_2017_J1_22.csv\t match_2018_J2_42.csv\r\n",
      "match_2016_J1_10.csv\t match_2017_J1_27.csv\t match_2018_J2_45.csv\r\n",
      "match_2016_J1_10_2.csv\t match_2017_J1_28.csv\t match_2018_J2_46.csv\r\n",
      "match_2016_J1_11.csv\t match_2017_J1_3.csv\t match_2018_J2_48.csv\r\n",
      "match_2016_J1_11_2.csv\t match_2017_J1_33.csv\t match_2018_J2_78.csv\r\n",
      "match_2016_J1_12.csv\t match_2017_J1_5.csv\t match_2018_J2_94.csv\r\n",
      "match_2016_J1_12_2.csv\t match_2017_J1_54.csv\r\n",
      "match_2016_J1_13.csv\t match_2017_J1_7.csv\r\n"
     ]
    }
   ],
   "source": [
    "! ls ../input/match/"
   ]
  },
  {
   "cell_type": "code",
   "execution_count": 14,
   "metadata": {},
   "outputs": [],
   "source": [
    "files = sorted(glob(DATA_DIR+'match/*'))"
   ]
  },
  {
   "cell_type": "code",
   "execution_count": 15,
   "metadata": {},
   "outputs": [],
   "source": [
    "num = 0\n",
    "file = files[num]"
   ]
  },
  {
   "cell_type": "code",
   "execution_count": 16,
   "metadata": {},
   "outputs": [
    {
     "name": "stdout",
     "output_type": "stream",
     "text": [
      "../input/match/match_2015_J1_10_s1.csv\n",
      "(17, 6)\n"
     ]
    },
    {
     "data": {
      "text/html": [
       "<div>\n",
       "<style scoped>\n",
       "    .dataframe tbody tr th:only-of-type {\n",
       "        vertical-align: middle;\n",
       "    }\n",
       "\n",
       "    .dataframe tbody tr th {\n",
       "        vertical-align: top;\n",
       "    }\n",
       "\n",
       "    .dataframe thead th {\n",
       "        text-align: right;\n",
       "    }\n",
       "</style>\n",
       "<table border=\"1\" class=\"dataframe\">\n",
       "  <thead>\n",
       "    <tr style=\"text-align: right;\">\n",
       "      <th></th>\n",
       "      <th>節</th>\n",
       "      <th>日</th>\n",
       "      <th>会場</th>\n",
       "      <th>対戦相手</th>\n",
       "      <th>勝敗</th>\n",
       "      <th>スコア</th>\n",
       "    </tr>\n",
       "  </thead>\n",
       "  <tbody>\n",
       "    <tr>\n",
       "      <th>0</th>\n",
       "      <td>第1節</td>\n",
       "      <td>03/07</td>\n",
       "      <td>Eスタ</td>\n",
       "      <td>甲府</td>\n",
       "      <td>○</td>\n",
       "      <td>2 - 0</td>\n",
       "    </tr>\n",
       "    <tr>\n",
       "      <th>1</th>\n",
       "      <td>第2節</td>\n",
       "      <td>03/14</td>\n",
       "      <td>松本</td>\n",
       "      <td>松本</td>\n",
       "      <td>○</td>\n",
       "      <td>2 - 1</td>\n",
       "    </tr>\n",
       "    <tr>\n",
       "      <th>2</th>\n",
       "      <td>第3節</td>\n",
       "      <td>03/22</td>\n",
       "      <td>Eスタ</td>\n",
       "      <td>浦和</td>\n",
       "      <td>△</td>\n",
       "      <td>0 - 0</td>\n",
       "    </tr>\n",
       "    <tr>\n",
       "      <th>3</th>\n",
       "      <td>第4節</td>\n",
       "      <td>04/04</td>\n",
       "      <td>Eスタ</td>\n",
       "      <td>神戸</td>\n",
       "      <td>●</td>\n",
       "      <td>0 - 1</td>\n",
       "    </tr>\n",
       "    <tr>\n",
       "      <th>4</th>\n",
       "      <td>第5節</td>\n",
       "      <td>04/12</td>\n",
       "      <td>豊田ス</td>\n",
       "      <td>名古屋</td>\n",
       "      <td>●</td>\n",
       "      <td>0 - 2</td>\n",
       "    </tr>\n",
       "  </tbody>\n",
       "</table>\n",
       "</div>"
      ],
      "text/plain": [
       "     節      日   会場 対戦相手 勝敗    スコア\n",
       "0  第1節  03/07  Eスタ   甲府  ○  2 - 0\n",
       "1  第2節  03/14   松本   松本  ○  2 - 1\n",
       "2  第3節  03/22  Eスタ   浦和  △  0 - 0\n",
       "3  第4節  04/04  Eスタ   神戸  ●  0 - 1\n",
       "4  第5節  04/12  豊田ス  名古屋  ●  0 - 2"
      ]
     },
     "execution_count": 16,
     "metadata": {},
     "output_type": "execute_result"
    }
   ],
   "source": [
    "df = pd.read_csv(file)\n",
    "print(file)\n",
    "print(df.shape)\n",
    "df.head()"
   ]
  },
  {
   "cell_type": "code",
   "execution_count": null,
   "metadata": {},
   "outputs": [],
   "source": []
  }
 ],
 "metadata": {
  "kernelspec": {
   "display_name": "Python 3",
   "language": "python",
   "name": "python3"
  },
  "language_info": {
   "codemirror_mode": {
    "name": "ipython",
    "version": 3
   },
   "file_extension": ".py",
   "mimetype": "text/x-python",
   "name": "python",
   "nbconvert_exporter": "python",
   "pygments_lexer": "ipython3",
   "version": "3.6.6"
  }
 },
 "nbformat": 4,
 "nbformat_minor": 4
}
