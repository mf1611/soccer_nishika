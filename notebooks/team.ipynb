{
 "cells": [
  {
   "cell_type": "code",
   "execution_count": 9,
   "metadata": {},
   "outputs": [],
   "source": [
    "import pandas as pd\n",
    "import numpy as np\n",
    "import matplotlib.pyplot as plt\n",
    "import japanize_matplotlib\n",
    "import seaborn as sns\n",
    "import pandas_profiling\n",
    "\n",
    "pd.set_option(\"display.max_columns\", None)\n",
    "# pd.set_option(\"display.max_rows\", 200)"
   ]
  },
  {
   "cell_type": "code",
   "execution_count": 10,
   "metadata": {},
   "outputs": [],
   "source": [
    "DATA_DIR = '../input/'"
   ]
  },
  {
   "cell_type": "code",
   "execution_count": 11,
   "metadata": {},
   "outputs": [
    {
     "name": "stdout",
     "output_type": "stream",
     "text": [
      "(200, 4)\n"
     ]
    },
    {
     "data": {
      "text/html": [
       "<div>\n",
       "<style scoped>\n",
       "    .dataframe tbody tr th:only-of-type {\n",
       "        vertical-align: middle;\n",
       "    }\n",
       "\n",
       "    .dataframe tbody tr th {\n",
       "        vertical-align: top;\n",
       "    }\n",
       "\n",
       "    .dataframe thead th {\n",
       "        text-align: right;\n",
       "    }\n",
       "</style>\n",
       "<table border=\"1\" class=\"dataframe\">\n",
       "  <thead>\n",
       "    <tr style=\"text-align: right;\">\n",
       "      <th></th>\n",
       "      <th>year</th>\n",
       "      <th>div</th>\n",
       "      <th>team_name</th>\n",
       "      <th>team_id</th>\n",
       "    </tr>\n",
       "  </thead>\n",
       "  <tbody>\n",
       "    <tr>\n",
       "      <th>0</th>\n",
       "      <td>2019</td>\n",
       "      <td>J1</td>\n",
       "      <td>鹿島</td>\n",
       "      <td>1</td>\n",
       "    </tr>\n",
       "    <tr>\n",
       "      <th>1</th>\n",
       "      <td>2019</td>\n",
       "      <td>J1</td>\n",
       "      <td>広島</td>\n",
       "      <td>10</td>\n",
       "    </tr>\n",
       "    <tr>\n",
       "      <th>2</th>\n",
       "      <td>2019</td>\n",
       "      <td>J1</td>\n",
       "      <td>湘南</td>\n",
       "      <td>12</td>\n",
       "    </tr>\n",
       "    <tr>\n",
       "      <th>3</th>\n",
       "      <td>2019</td>\n",
       "      <td>J1</td>\n",
       "      <td>磐田</td>\n",
       "      <td>13</td>\n",
       "    </tr>\n",
       "    <tr>\n",
       "      <th>4</th>\n",
       "      <td>2019</td>\n",
       "      <td>J1</td>\n",
       "      <td>札幌</td>\n",
       "      <td>14</td>\n",
       "    </tr>\n",
       "  </tbody>\n",
       "</table>\n",
       "</div>"
      ],
      "text/plain": [
       "   year div team_name  team_id\n",
       "0  2019  J1        鹿島        1\n",
       "1  2019  J1        広島       10\n",
       "2  2019  J1        湘南       12\n",
       "3  2019  J1        磐田       13\n",
       "4  2019  J1        札幌       14"
      ]
     },
     "execution_count": 11,
     "metadata": {},
     "output_type": "execute_result"
    }
   ],
   "source": [
    "df = pd.read_csv(DATA_DIR+'team.csv')\n",
    "print(df.shape)\n",
    "df.head()"
   ]
  },
  {
   "cell_type": "code",
   "execution_count": 12,
   "metadata": {},
   "outputs": [
    {
     "data": {
      "text/plain": [
       "year          int64\n",
       "div          object\n",
       "team_name    object\n",
       "team_id       int64\n",
       "dtype: object"
      ]
     },
     "metadata": {},
     "output_type": "display_data"
    }
   ],
   "source": [
    "# 型確認\n",
    "display(df.dtypes)"
   ]
  },
  {
   "cell_type": "code",
   "execution_count": 13,
   "metadata": {},
   "outputs": [
    {
     "data": {
      "text/plain": [
       "'数値カラム：'"
      ]
     },
     "metadata": {},
     "output_type": "display_data"
    },
    {
     "data": {
      "text/plain": [
       "['year', 'team_id']"
      ]
     },
     "metadata": {},
     "output_type": "display_data"
    }
   ],
   "source": [
    "# 数値カラム\n",
    "display('数値カラム：', list(df.select_dtypes(include='number').columns))"
   ]
  },
  {
   "cell_type": "code",
   "execution_count": 14,
   "metadata": {},
   "outputs": [
    {
     "name": "stdout",
     "output_type": "stream",
     "text": [
      "重複行数:  0\n"
     ]
    }
   ],
   "source": [
    "# 重複行の確認，もし0でないなら処理\n",
    "print('重複行数: ', df.duplicated().sum())\n",
    "df = df.loc[~df.duplicated(),:]"
   ]
  },
  {
   "cell_type": "code",
   "execution_count": 15,
   "metadata": {},
   "outputs": [
    {
     "data": {
      "image/png": "[encoded data removed]",
      "text/plain": [
       "<Figure size 1440x720 with 1 Axes>"
      ]
     },
     "metadata": {},
     "output_type": "display_data"
    }
   ],
   "source": [
    "# 欠損値の確認\n",
    "missing_dict = df.isnull().sum()\n",
    "missing_rate = missing_dict.values / df.shape[0]\n",
    "df_missing = pd.DataFrame({'カラム': missing_dict.index, '欠損数': missing_dict.values, '欠損割合': missing_rate}).sort_values(by='欠損割合', ascending=False)\n",
    "df_missing = df_missing.set_index('カラム')\n",
    "\n",
    "# 欠損割合可視化\n",
    "plt.figure(figsize=(20, 10))\n",
    "sns.barplot(df_missing.index, df_missing['欠損割合'])\n",
    "plt.xlabel(\"カラム\", fontsize=18)\n",
    "plt.ylabel(\"欠損割合\", fontsize=18)\n",
    "plt.xticks(fontsize=18, rotation=90)\n",
    "plt.yticks(fontsize=18)\n",
    "plt.show()"
   ]
  },
  {
   "cell_type": "code",
   "execution_count": 16,
   "metadata": {},
   "outputs": [
    {
     "data": {
      "text/html": [
       "<div>\n",
       "<style scoped>\n",
       "    .dataframe tbody tr th:only-of-type {\n",
       "        vertical-align: middle;\n",
       "    }\n",
       "\n",
       "    .dataframe tbody tr th {\n",
       "        vertical-align: top;\n",
       "    }\n",
       "\n",
       "    .dataframe thead th {\n",
       "        text-align: right;\n",
       "    }\n",
       "</style>\n",
       "<table border=\"1\" class=\"dataframe\">\n",
       "  <thead>\n",
       "    <tr style=\"text-align: right;\">\n",
       "      <th></th>\n",
       "      <th>欠損数</th>\n",
       "      <th>欠損割合</th>\n",
       "    </tr>\n",
       "    <tr>\n",
       "      <th>カラム</th>\n",
       "      <th></th>\n",
       "      <th></th>\n",
       "    </tr>\n",
       "  </thead>\n",
       "  <tbody>\n",
       "  </tbody>\n",
       "</table>\n",
       "</div>"
      ],
      "text/plain": [
       "Empty DataFrame\n",
       "Columns: [欠損数, 欠損割合]\n",
       "Index: []"
      ]
     },
     "metadata": {},
     "output_type": "display_data"
    }
   ],
   "source": [
    "# 1つ以上欠損あるものだけ表示\n",
    "display(df_missing[df_missing['欠損数']>0])"
   ]
  },
  {
   "cell_type": "code",
   "execution_count": 17,
   "metadata": {},
   "outputs": [
    {
     "data": {
      "text/plain": [
       "'ユニーク数: '"
      ]
     },
     "metadata": {},
     "output_type": "display_data"
    },
    {
     "data": {
      "text/plain": [
       "team_id      44\n",
       "team_name    44\n",
       "year          5\n",
       "div           2\n",
       "dtype: int64"
      ]
     },
     "metadata": {},
     "output_type": "display_data"
    }
   ],
   "source": [
    "# カラムごとのuniqueな数\n",
    "display('ユニーク数: ', df.nunique().sort_values(ascending=False))"
   ]
  },
  {
   "cell_type": "code",
   "execution_count": 18,
   "metadata": {
    "scrolled": true
   },
   "outputs": [
    {
     "name": "stdout",
     "output_type": "stream",
     "text": [
      "------------------------------------------------------------\n",
      "year\n",
      "# of unique:  5\n",
      "statistics:  count     200.000000\n",
      "mean     2017.000000\n",
      "std         1.417762\n",
      "min      2015.000000\n",
      "25%      2016.000000\n",
      "50%      2017.000000\n",
      "75%      2018.000000\n",
      "max      2019.000000\n",
      "Name: year, dtype: float64\n"
     ]
    },
    {
     "data": {
      "image/png": "[encoded data removed]",
      "text/plain": [
       "<Figure size 576x396 with 1 Axes>"
      ]
     },
     "metadata": {},
     "output_type": "display_data"
    },
    {
     "name": "stdout",
     "output_type": "stream",
     "text": [
      "------------------------------------------------------------\n"
     ]
    },
    {
     "data": {
      "image/png": "[encoded data removed]",
      "text/plain": [
       "<Figure size 576x396 with 1 Axes>"
      ]
     },
     "metadata": {},
     "output_type": "display_data"
    },
    {
     "name": "stdout",
     "output_type": "stream",
     "text": [
      "------------------------------------------------------------\n",
      "div\n",
      "# of unique:  2\n",
      "statistics:  count     200\n",
      "unique      2\n",
      "top        J2\n",
      "freq      110\n",
      "Name: div, dtype: object\n",
      "value_counts: \n"
     ]
    },
    {
     "data": {
      "text/plain": [
       "J2    0.55\n",
       "J1    0.45\n",
       "Name: div, dtype: float64"
      ]
     },
     "metadata": {},
     "output_type": "display_data"
    },
    {
     "data": {
      "image/png": "[encoded data removed]",
      "text/plain": [
       "<Figure size 576x396 with 1 Axes>"
      ]
     },
     "metadata": {},
     "output_type": "display_data"
    },
    {
     "name": "stdout",
     "output_type": "stream",
     "text": [
      "------------------------------------------------------------\n",
      "team_name\n",
      "# of unique:  44\n",
      "statistics:  count     200\n",
      "unique     44\n",
      "top        徳島\n",
      "freq        5\n",
      "Name: team_name, dtype: object\n",
      "value_counts: \n"
     ]
    },
    {
     "data": {
      "text/plain": [
       "水戸      0.025\n",
       "柏       0.025\n",
       "札幌      0.025\n",
       "広島      0.025\n",
       "山形      0.025\n",
       "甲府      0.025\n",
       "新潟      0.025\n",
       "鹿島      0.025\n",
       "G大阪     0.025\n",
       "湘南      0.025\n",
       "千葉      0.025\n",
       "磐田      0.025\n",
       "松本      0.025\n",
       "京都      0.025\n",
       "横浜FM    0.025\n",
       "川崎F     0.025\n",
       "岡山      0.025\n",
       "名古屋     0.025\n",
       "鳥栖      0.025\n",
       "東京V     0.025\n",
       "長崎      0.025\n",
       "徳島      0.025\n",
       "仙台      0.025\n",
       "岐阜      0.025\n",
       "福岡      0.025\n",
       "大宮      0.025\n",
       "愛媛      0.025\n",
       "横浜FC    0.025\n",
       "清水      0.025\n",
       "FC東京    0.025\n",
       "金沢      0.025\n",
       "浦和      0.025\n",
       "神戸      0.025\n",
       "C大阪     0.025\n",
       "熊本      0.020\n",
       "山口      0.020\n",
       "町田      0.020\n",
       "讃岐      0.020\n",
       "大分      0.020\n",
       "栃木      0.015\n",
       "群馬      0.015\n",
       "北九州     0.010\n",
       "鹿児島     0.005\n",
       "琉球      0.005\n",
       "Name: team_name, dtype: float64"
      ]
     },
     "metadata": {},
     "output_type": "display_data"
    },
    {
     "data": {
      "image/png": "[encoded data removed]",
      "text/plain": [
       "<Figure size 576x396 with 1 Axes>"
      ]
     },
     "metadata": {},
     "output_type": "display_data"
    },
    {
     "name": "stdout",
     "output_type": "stream",
     "text": [
      "------------------------------------------------------------\n",
      "team_id\n",
      "# of unique:  44\n",
      "statistics:  count    200.000000\n",
      "mean      42.620000\n",
      "std       65.843164\n",
      "min        1.000000\n",
      "25%       11.750000\n",
      "50%       27.500000\n",
      "75%       42.000000\n",
      "max      338.000000\n",
      "Name: team_id, dtype: float64\n"
     ]
    },
    {
     "data": {
      "image/png": "[encoded data removed]",
      "text/plain": [
       "<Figure size 576x396 with 1 Axes>"
      ]
     },
     "metadata": {},
     "output_type": "display_data"
    },
    {
     "name": "stdout",
     "output_type": "stream",
     "text": [
      "------------------------------------------------------------\n"
     ]
    },
    {
     "data": {
      "image/png": "[encoded data removed]",
      "text/plain": [
       "<Figure size 576x396 with 1 Axes>"
      ]
     },
     "metadata": {},
     "output_type": "display_data"
    }
   ],
   "source": [
    "# 中身の確認\n",
    "for col in df.columns:\n",
    "    print('-'*60)\n",
    "    print(col)\n",
    "    print('# of unique: ', df[col].nunique())\n",
    "    print('statistics: ', df[col].describe())\n",
    "    if df[col].dtype=='object':\n",
    "        print('value_counts: ')\n",
    "        val_cnt = df[col].value_counts(dropna=False, normalize=True).sort_values(ascending=False)\n",
    "        display(val_cnt)\n",
    "        sns.barplot(x=val_cnt.index, y=val_cnt.values)\n",
    "        plt.show()\n",
    "        \n",
    "    else:\n",
    "        sns.distplot(df[col].dropna())\n",
    "        plt.show()\n",
    "        \n",
    "        # 箱ひげ図\n",
    "        print('-'*60)\n",
    "        df[col].plot.box()\n",
    "        plt.show()\n",
    "\n",
    "#         # log10\n",
    "#         df_rm0 =df[df[col]!=0][col]\n",
    "#         sns.distplot(np.log10(df_rm0).dropna())\n",
    "#         plt.show()"
   ]
  },
  {
   "cell_type": "code",
   "execution_count": null,
   "metadata": {},
   "outputs": [],
   "source": []
  },
  {
   "cell_type": "code",
   "execution_count": null,
   "metadata": {},
   "outputs": [],
   "source": []
  }
 ],
 "metadata": {
  "kernelspec": {
   "display_name": "Python 3",
   "language": "python",
   "name": "python3"
  },
  "language_info": {
   "codemirror_mode": {
    "name": "ipython",
    "version": 3
   },
   "file_extension": ".py",
   "mimetype": "text/x-python",
   "name": "python",
   "nbconvert_exporter": "python",
   "pygments_lexer": "ipython3",
   "version": "3.6.6"
  }
 },
 "nbformat": 4,
 "nbformat_minor": 4
}
